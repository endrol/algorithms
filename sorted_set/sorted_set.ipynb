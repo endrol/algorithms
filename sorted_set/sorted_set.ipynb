{
 "metadata": {
  "language_info": {
   "codemirror_mode": {
    "name": "ipython",
    "version": 3
   },
   "file_extension": ".py",
   "mimetype": "text/x-python",
   "name": "python",
   "nbconvert_exporter": "python",
   "pygments_lexer": "ipython3",
   "version": "3.8.5-final"
  },
  "orig_nbformat": 2,
  "kernelspec": {
   "name": "python385jvsc74a57bd031f2aee4e71d21fbe5cf8b01ff0e069b9275f58929596ceb00d14d90e3e16cd6",
   "display_name": "Python 3.8.5 64-bit"
  },
  "metadata": {
   "interpreter": {
    "hash": "31f2aee4e71d21fbe5cf8b01ff0e069b9275f58929596ceb00d14d90e3e16cd6"
   }
  }
 },
 "nbformat": 4,
 "nbformat_minor": 2,
 "cells": [
  {
   "source": [
    "## SortedSet\n",
    "we often need a data-structure to remain the number of a set. \n",
    " \n",
    "but we want this set be sorted\n",
    "therefore we import this ```sortedcontainers```"
   ],
   "cell_type": "markdown",
   "metadata": {}
  },
  {
   "cell_type": "code",
   "execution_count": 11,
   "metadata": {},
   "outputs": [
    {
     "output_type": "stream",
     "name": "stdout",
     "text": [
      "SortedSet([-23, -5, 9, 12, 23, 45, 53, 54, 77])\n"
     ]
    },
    {
     "output_type": "execute_result",
     "data": {
      "text/plain": [
       "0"
      ]
     },
     "metadata": {},
     "execution_count": 11
    }
   ],
   "source": [
    "from sortedcontainers import SortedSet, SortedList\n",
    "st = SortedSet()\n",
    "\n",
    "st.update([12,23,54,77,9,45,-23,53,-5])\n",
    "index = st.bisect_left(-100)\n",
    "print(st)\n",
    "index\n"
   ]
  },
  {
   "cell_type": "code",
   "execution_count": 15,
   "metadata": {},
   "outputs": [],
   "source": [
    "def containdublicate(nums, k, t):\n",
    "    window = SortedList()\n",
    "    for i in range(len(nums)):\n",
    "        if i>k:\n",
    "            window.remove(nums[i-1-k])\n",
    "        window.add(nums[i])\n",
    "        index = window.index(nums[i])\n",
    "        if index>0 and window[index]-window[index-1] <= t:\n",
    "            return True\n",
    "        elif index<len(window)-1 and window[index+1]-window[index] <= t:\\\n",
    "            return True\n",
    "\n",
    "    return False\n"
   ]
  },
  {
   "cell_type": "code",
   "execution_count": 16,
   "metadata": {},
   "outputs": [
    {
     "output_type": "execute_result",
     "data": {
      "text/plain": [
       "True"
      ]
     },
     "metadata": {},
     "execution_count": 16
    }
   ],
   "source": [
    "containdublicate([1,2,3,1], 3, 0)"
   ]
  }
 ]
}